{
 "cells": [
  {
   "cell_type": "code",
   "execution_count": 28,
   "id": "e7991f87",
   "metadata": {},
   "outputs": [],
   "source": [
    "import pandas as pd\n",
    "from sklearn.linear_model import LinearRegression\n",
    "import matplotlib.pyplot as plt\n",
    "from sklearn.metrics import mean_absolute_error, mean_squared_error, r2_score\n",
    "import matplotlib.dates as mdates"
   ]
  },
  {
   "cell_type": "markdown",
   "id": "811b3623",
   "metadata": {},
   "source": [
    "# Read Data"
   ]
  },
  {
   "cell_type": "code",
   "execution_count": 2,
   "id": "0af86c70",
   "metadata": {},
   "outputs": [],
   "source": [
    "coal_train_data = pd.read_csv('Data/COALINDIA TRAIN.csv')"
   ]
  },
  {
   "cell_type": "code",
   "execution_count": 3,
   "id": "b988ee36",
   "metadata": {},
   "outputs": [
    {
     "data": {
      "text/html": [
       "<div>\n",
       "<style scoped>\n",
       "    .dataframe tbody tr th:only-of-type {\n",
       "        vertical-align: middle;\n",
       "    }\n",
       "\n",
       "    .dataframe tbody tr th {\n",
       "        vertical-align: top;\n",
       "    }\n",
       "\n",
       "    .dataframe thead th {\n",
       "        text-align: right;\n",
       "    }\n",
       "</style>\n",
       "<table border=\"1\" class=\"dataframe\">\n",
       "  <thead>\n",
       "    <tr style=\"text-align: right;\">\n",
       "      <th></th>\n",
       "      <th>Date</th>\n",
       "      <th>Open</th>\n",
       "      <th>High</th>\n",
       "      <th>Low</th>\n",
       "      <th>Close</th>\n",
       "      <th>Adj Close</th>\n",
       "      <th>Volume</th>\n",
       "    </tr>\n",
       "  </thead>\n",
       "  <tbody>\n",
       "    <tr>\n",
       "      <th>0</th>\n",
       "      <td>03-01-2011</td>\n",
       "      <td>315.500000</td>\n",
       "      <td>318.0</td>\n",
       "      <td>314.549988</td>\n",
       "      <td>317.299988</td>\n",
       "      <td>129.144241</td>\n",
       "      <td>2929118.0</td>\n",
       "    </tr>\n",
       "    <tr>\n",
       "      <th>1</th>\n",
       "      <td>04-01-2011</td>\n",
       "      <td>318.899994</td>\n",
       "      <td>320.0</td>\n",
       "      <td>316.049988</td>\n",
       "      <td>319.200012</td>\n",
       "      <td>129.917557</td>\n",
       "      <td>2716995.0</td>\n",
       "    </tr>\n",
       "    <tr>\n",
       "      <th>2</th>\n",
       "      <td>05-01-2011</td>\n",
       "      <td>320.000000</td>\n",
       "      <td>320.0</td>\n",
       "      <td>308.250000</td>\n",
       "      <td>309.799988</td>\n",
       "      <td>126.091690</td>\n",
       "      <td>8555905.0</td>\n",
       "    </tr>\n",
       "    <tr>\n",
       "      <th>3</th>\n",
       "      <td>06-01-2011</td>\n",
       "      <td>311.000000</td>\n",
       "      <td>313.0</td>\n",
       "      <td>308.500000</td>\n",
       "      <td>309.100006</td>\n",
       "      <td>125.806793</td>\n",
       "      <td>2763146.0</td>\n",
       "    </tr>\n",
       "    <tr>\n",
       "      <th>4</th>\n",
       "      <td>07-01-2011</td>\n",
       "      <td>310.000000</td>\n",
       "      <td>313.5</td>\n",
       "      <td>302.149994</td>\n",
       "      <td>309.100006</td>\n",
       "      <td>125.806793</td>\n",
       "      <td>2298583.0</td>\n",
       "    </tr>\n",
       "  </tbody>\n",
       "</table>\n",
       "</div>"
      ],
      "text/plain": [
       "         Date        Open   High         Low       Close   Adj Close  \\\n",
       "0  03-01-2011  315.500000  318.0  314.549988  317.299988  129.144241   \n",
       "1  04-01-2011  318.899994  320.0  316.049988  319.200012  129.917557   \n",
       "2  05-01-2011  320.000000  320.0  308.250000  309.799988  126.091690   \n",
       "3  06-01-2011  311.000000  313.0  308.500000  309.100006  125.806793   \n",
       "4  07-01-2011  310.000000  313.5  302.149994  309.100006  125.806793   \n",
       "\n",
       "      Volume  \n",
       "0  2929118.0  \n",
       "1  2716995.0  \n",
       "2  8555905.0  \n",
       "3  2763146.0  \n",
       "4  2298583.0  "
      ]
     },
     "execution_count": 3,
     "metadata": {},
     "output_type": "execute_result"
    }
   ],
   "source": [
    "coal_train_data.head()"
   ]
  },
  {
   "cell_type": "markdown",
   "id": "1fa56afa",
   "metadata": {},
   "source": [
    "# Checking null values"
   ]
  },
  {
   "cell_type": "code",
   "execution_count": 4,
   "id": "604705c1",
   "metadata": {},
   "outputs": [
    {
     "data": {
      "text/plain": [
       "Date         0\n",
       "Open         6\n",
       "High         6\n",
       "Low          6\n",
       "Close        6\n",
       "Adj Close    6\n",
       "Volume       6\n",
       "dtype: int64"
      ]
     },
     "execution_count": 4,
     "metadata": {},
     "output_type": "execute_result"
    }
   ],
   "source": [
    "coal_train_data.isna().sum()"
   ]
  },
  {
   "cell_type": "markdown",
   "id": "4b21cd3b",
   "metadata": {},
   "source": [
    "# Dropping null values"
   ]
  },
  {
   "cell_type": "code",
   "execution_count": 5,
   "id": "710d4352",
   "metadata": {},
   "outputs": [],
   "source": [
    "coal_train_data.dropna(inplace=True)"
   ]
  },
  {
   "cell_type": "code",
   "execution_count": 6,
   "id": "b1cdd4ae",
   "metadata": {},
   "outputs": [
    {
     "data": {
      "text/plain": [
       "Date         0\n",
       "Open         0\n",
       "High         0\n",
       "Low          0\n",
       "Close        0\n",
       "Adj Close    0\n",
       "Volume       0\n",
       "dtype: int64"
      ]
     },
     "execution_count": 6,
     "metadata": {},
     "output_type": "execute_result"
    }
   ],
   "source": [
    "coal_train_data.isna().sum()"
   ]
  },
  {
   "cell_type": "markdown",
   "id": "04235a06",
   "metadata": {},
   "source": [
    "# Preparing data"
   ]
  },
  {
   "cell_type": "code",
   "execution_count": 7,
   "id": "32631fca",
   "metadata": {},
   "outputs": [],
   "source": [
    "X_train = coal_train_data[['Open','High','Low','Volume']]"
   ]
  },
  {
   "cell_type": "code",
   "execution_count": 8,
   "id": "40be2a79",
   "metadata": {},
   "outputs": [
    {
     "data": {
      "text/html": [
       "<div>\n",
       "<style scoped>\n",
       "    .dataframe tbody tr th:only-of-type {\n",
       "        vertical-align: middle;\n",
       "    }\n",
       "\n",
       "    .dataframe tbody tr th {\n",
       "        vertical-align: top;\n",
       "    }\n",
       "\n",
       "    .dataframe thead th {\n",
       "        text-align: right;\n",
       "    }\n",
       "</style>\n",
       "<table border=\"1\" class=\"dataframe\">\n",
       "  <thead>\n",
       "    <tr style=\"text-align: right;\">\n",
       "      <th></th>\n",
       "      <th>Open</th>\n",
       "      <th>High</th>\n",
       "      <th>Low</th>\n",
       "      <th>Volume</th>\n",
       "    </tr>\n",
       "  </thead>\n",
       "  <tbody>\n",
       "    <tr>\n",
       "      <th>0</th>\n",
       "      <td>315.500000</td>\n",
       "      <td>318.0</td>\n",
       "      <td>314.549988</td>\n",
       "      <td>2929118.0</td>\n",
       "    </tr>\n",
       "    <tr>\n",
       "      <th>1</th>\n",
       "      <td>318.899994</td>\n",
       "      <td>320.0</td>\n",
       "      <td>316.049988</td>\n",
       "      <td>2716995.0</td>\n",
       "    </tr>\n",
       "    <tr>\n",
       "      <th>2</th>\n",
       "      <td>320.000000</td>\n",
       "      <td>320.0</td>\n",
       "      <td>308.250000</td>\n",
       "      <td>8555905.0</td>\n",
       "    </tr>\n",
       "    <tr>\n",
       "      <th>3</th>\n",
       "      <td>311.000000</td>\n",
       "      <td>313.0</td>\n",
       "      <td>308.500000</td>\n",
       "      <td>2763146.0</td>\n",
       "    </tr>\n",
       "    <tr>\n",
       "      <th>4</th>\n",
       "      <td>310.000000</td>\n",
       "      <td>313.5</td>\n",
       "      <td>302.149994</td>\n",
       "      <td>2298583.0</td>\n",
       "    </tr>\n",
       "  </tbody>\n",
       "</table>\n",
       "</div>"
      ],
      "text/plain": [
       "         Open   High         Low     Volume\n",
       "0  315.500000  318.0  314.549988  2929118.0\n",
       "1  318.899994  320.0  316.049988  2716995.0\n",
       "2  320.000000  320.0  308.250000  8555905.0\n",
       "3  311.000000  313.0  308.500000  2763146.0\n",
       "4  310.000000  313.5  302.149994  2298583.0"
      ]
     },
     "execution_count": 8,
     "metadata": {},
     "output_type": "execute_result"
    }
   ],
   "source": [
    "X_train.head()"
   ]
  },
  {
   "cell_type": "code",
   "execution_count": 9,
   "id": "913c6a05",
   "metadata": {},
   "outputs": [],
   "source": [
    "Y_train = coal_train_data['Close']"
   ]
  },
  {
   "cell_type": "code",
   "execution_count": 10,
   "id": "b14c9c68",
   "metadata": {},
   "outputs": [
    {
     "data": {
      "text/plain": [
       "0    317.299988\n",
       "1    319.200012\n",
       "2    309.799988\n",
       "3    309.100006\n",
       "4    309.100006\n",
       "Name: Close, dtype: float64"
      ]
     },
     "execution_count": 10,
     "metadata": {},
     "output_type": "execute_result"
    }
   ],
   "source": [
    "Y_train.head()"
   ]
  },
  {
   "cell_type": "markdown",
   "id": "fd4b5001",
   "metadata": {},
   "source": [
    "# Model Training"
   ]
  },
  {
   "cell_type": "code",
   "execution_count": 11,
   "id": "3c6ea42c",
   "metadata": {},
   "outputs": [],
   "source": [
    "model = LinearRegression()"
   ]
  },
  {
   "cell_type": "code",
   "execution_count": 12,
   "id": "becf9546",
   "metadata": {},
   "outputs": [
    {
     "data": {
      "text/plain": [
       "LinearRegression()"
      ]
     },
     "execution_count": 12,
     "metadata": {},
     "output_type": "execute_result"
    }
   ],
   "source": [
    "model.fit(X_train,Y_train)"
   ]
  },
  {
   "cell_type": "markdown",
   "id": "02ed0c0b",
   "metadata": {},
   "source": [
    "# Testing"
   ]
  },
  {
   "cell_type": "code",
   "execution_count": 13,
   "id": "685bc230",
   "metadata": {},
   "outputs": [],
   "source": [
    "coal_test_data = pd.read_csv('Data/COALINDIA TEST.csv')"
   ]
  },
  {
   "cell_type": "code",
   "execution_count": 14,
   "id": "a00359d9",
   "metadata": {},
   "outputs": [
    {
     "data": {
      "text/html": [
       "<div>\n",
       "<style scoped>\n",
       "    .dataframe tbody tr th:only-of-type {\n",
       "        vertical-align: middle;\n",
       "    }\n",
       "\n",
       "    .dataframe tbody tr th {\n",
       "        vertical-align: top;\n",
       "    }\n",
       "\n",
       "    .dataframe thead th {\n",
       "        text-align: right;\n",
       "    }\n",
       "</style>\n",
       "<table border=\"1\" class=\"dataframe\">\n",
       "  <thead>\n",
       "    <tr style=\"text-align: right;\">\n",
       "      <th></th>\n",
       "      <th>Date</th>\n",
       "      <th>Open</th>\n",
       "      <th>High</th>\n",
       "      <th>Low</th>\n",
       "      <th>Close</th>\n",
       "      <th>Adj Close</th>\n",
       "      <th>Volume</th>\n",
       "    </tr>\n",
       "  </thead>\n",
       "  <tbody>\n",
       "    <tr>\n",
       "      <th>0</th>\n",
       "      <td>02-01-2023</td>\n",
       "      <td>226.750000</td>\n",
       "      <td>227.199997</td>\n",
       "      <td>224.149994</td>\n",
       "      <td>224.750000</td>\n",
       "      <td>219.379318</td>\n",
       "      <td>4210225.0</td>\n",
       "    </tr>\n",
       "    <tr>\n",
       "      <th>1</th>\n",
       "      <td>03-01-2023</td>\n",
       "      <td>225.000000</td>\n",
       "      <td>225.750000</td>\n",
       "      <td>223.000000</td>\n",
       "      <td>224.100006</td>\n",
       "      <td>218.744858</td>\n",
       "      <td>3643132.0</td>\n",
       "    </tr>\n",
       "    <tr>\n",
       "      <th>2</th>\n",
       "      <td>04-01-2023</td>\n",
       "      <td>224.350006</td>\n",
       "      <td>224.500000</td>\n",
       "      <td>216.250000</td>\n",
       "      <td>217.149994</td>\n",
       "      <td>211.960938</td>\n",
       "      <td>9550461.0</td>\n",
       "    </tr>\n",
       "    <tr>\n",
       "      <th>3</th>\n",
       "      <td>05-01-2023</td>\n",
       "      <td>216.800003</td>\n",
       "      <td>218.899994</td>\n",
       "      <td>215.199997</td>\n",
       "      <td>218.149994</td>\n",
       "      <td>212.937027</td>\n",
       "      <td>8815728.0</td>\n",
       "    </tr>\n",
       "    <tr>\n",
       "      <th>4</th>\n",
       "      <td>06-01-2023</td>\n",
       "      <td>219.000000</td>\n",
       "      <td>219.899994</td>\n",
       "      <td>212.000000</td>\n",
       "      <td>214.250000</td>\n",
       "      <td>209.130234</td>\n",
       "      <td>12237065.0</td>\n",
       "    </tr>\n",
       "  </tbody>\n",
       "</table>\n",
       "</div>"
      ],
      "text/plain": [
       "         Date        Open        High         Low       Close   Adj Close  \\\n",
       "0  02-01-2023  226.750000  227.199997  224.149994  224.750000  219.379318   \n",
       "1  03-01-2023  225.000000  225.750000  223.000000  224.100006  218.744858   \n",
       "2  04-01-2023  224.350006  224.500000  216.250000  217.149994  211.960938   \n",
       "3  05-01-2023  216.800003  218.899994  215.199997  218.149994  212.937027   \n",
       "4  06-01-2023  219.000000  219.899994  212.000000  214.250000  209.130234   \n",
       "\n",
       "       Volume  \n",
       "0   4210225.0  \n",
       "1   3643132.0  \n",
       "2   9550461.0  \n",
       "3   8815728.0  \n",
       "4  12237065.0  "
      ]
     },
     "execution_count": 14,
     "metadata": {},
     "output_type": "execute_result"
    }
   ],
   "source": [
    "coal_test_data.head()"
   ]
  },
  {
   "cell_type": "code",
   "execution_count": 15,
   "id": "96ab499c",
   "metadata": {},
   "outputs": [
    {
     "data": {
      "text/plain": [
       "Date         186\n",
       "Open         186\n",
       "High         186\n",
       "Low          186\n",
       "Close        186\n",
       "Adj Close    186\n",
       "Volume       186\n",
       "dtype: int64"
      ]
     },
     "execution_count": 15,
     "metadata": {},
     "output_type": "execute_result"
    }
   ],
   "source": [
    "coal_test_data.isna().sum()"
   ]
  },
  {
   "cell_type": "code",
   "execution_count": 16,
   "id": "85dd03f8",
   "metadata": {},
   "outputs": [
    {
     "data": {
      "text/html": [
       "<div>\n",
       "<style scoped>\n",
       "    .dataframe tbody tr th:only-of-type {\n",
       "        vertical-align: middle;\n",
       "    }\n",
       "\n",
       "    .dataframe tbody tr th {\n",
       "        vertical-align: top;\n",
       "    }\n",
       "\n",
       "    .dataframe thead th {\n",
       "        text-align: right;\n",
       "    }\n",
       "</style>\n",
       "<table border=\"1\" class=\"dataframe\">\n",
       "  <thead>\n",
       "    <tr style=\"text-align: right;\">\n",
       "      <th></th>\n",
       "      <th>Date</th>\n",
       "      <th>Open</th>\n",
       "      <th>High</th>\n",
       "      <th>Low</th>\n",
       "      <th>Close</th>\n",
       "      <th>Adj Close</th>\n",
       "      <th>Volume</th>\n",
       "    </tr>\n",
       "  </thead>\n",
       "  <tbody>\n",
       "    <tr>\n",
       "      <th>62</th>\n",
       "      <td>NaN</td>\n",
       "      <td>NaN</td>\n",
       "      <td>NaN</td>\n",
       "      <td>NaN</td>\n",
       "      <td>NaN</td>\n",
       "      <td>NaN</td>\n",
       "      <td>NaN</td>\n",
       "    </tr>\n",
       "    <tr>\n",
       "      <th>63</th>\n",
       "      <td>NaN</td>\n",
       "      <td>NaN</td>\n",
       "      <td>NaN</td>\n",
       "      <td>NaN</td>\n",
       "      <td>NaN</td>\n",
       "      <td>NaN</td>\n",
       "      <td>NaN</td>\n",
       "    </tr>\n",
       "    <tr>\n",
       "      <th>64</th>\n",
       "      <td>NaN</td>\n",
       "      <td>NaN</td>\n",
       "      <td>NaN</td>\n",
       "      <td>NaN</td>\n",
       "      <td>NaN</td>\n",
       "      <td>NaN</td>\n",
       "      <td>NaN</td>\n",
       "    </tr>\n",
       "    <tr>\n",
       "      <th>65</th>\n",
       "      <td>NaN</td>\n",
       "      <td>NaN</td>\n",
       "      <td>NaN</td>\n",
       "      <td>NaN</td>\n",
       "      <td>NaN</td>\n",
       "      <td>NaN</td>\n",
       "      <td>NaN</td>\n",
       "    </tr>\n",
       "    <tr>\n",
       "      <th>66</th>\n",
       "      <td>NaN</td>\n",
       "      <td>NaN</td>\n",
       "      <td>NaN</td>\n",
       "      <td>NaN</td>\n",
       "      <td>NaN</td>\n",
       "      <td>NaN</td>\n",
       "      <td>NaN</td>\n",
       "    </tr>\n",
       "    <tr>\n",
       "      <th>67</th>\n",
       "      <td>NaN</td>\n",
       "      <td>NaN</td>\n",
       "      <td>NaN</td>\n",
       "      <td>NaN</td>\n",
       "      <td>NaN</td>\n",
       "      <td>NaN</td>\n",
       "      <td>NaN</td>\n",
       "    </tr>\n",
       "    <tr>\n",
       "      <th>68</th>\n",
       "      <td>NaN</td>\n",
       "      <td>NaN</td>\n",
       "      <td>NaN</td>\n",
       "      <td>NaN</td>\n",
       "      <td>NaN</td>\n",
       "      <td>NaN</td>\n",
       "      <td>NaN</td>\n",
       "    </tr>\n",
       "  </tbody>\n",
       "</table>\n",
       "</div>"
      ],
      "text/plain": [
       "   Date  Open  High  Low  Close  Adj Close  Volume\n",
       "62  NaN   NaN   NaN  NaN    NaN        NaN     NaN\n",
       "63  NaN   NaN   NaN  NaN    NaN        NaN     NaN\n",
       "64  NaN   NaN   NaN  NaN    NaN        NaN     NaN\n",
       "65  NaN   NaN   NaN  NaN    NaN        NaN     NaN\n",
       "66  NaN   NaN   NaN  NaN    NaN        NaN     NaN\n",
       "67  NaN   NaN   NaN  NaN    NaN        NaN     NaN\n",
       "68  NaN   NaN   NaN  NaN    NaN        NaN     NaN"
      ]
     },
     "execution_count": 16,
     "metadata": {},
     "output_type": "execute_result"
    }
   ],
   "source": [
    "null_rows = coal_test_data[coal_test_data.isnull().any(axis=1)].head(7)\n",
    "null_rows "
   ]
  },
  {
   "cell_type": "code",
   "execution_count": 17,
   "id": "eb9e424f",
   "metadata": {},
   "outputs": [],
   "source": [
    "coal_test_data.dropna(inplace=True)"
   ]
  },
  {
   "cell_type": "code",
   "execution_count": 18,
   "id": "519189fb",
   "metadata": {},
   "outputs": [
    {
     "data": {
      "text/plain": [
       "Date         0\n",
       "Open         0\n",
       "High         0\n",
       "Low          0\n",
       "Close        0\n",
       "Adj Close    0\n",
       "Volume       0\n",
       "dtype: int64"
      ]
     },
     "execution_count": 18,
     "metadata": {},
     "output_type": "execute_result"
    }
   ],
   "source": [
    "coal_test_data.isna().sum()"
   ]
  },
  {
   "cell_type": "code",
   "execution_count": 19,
   "id": "85fea491",
   "metadata": {},
   "outputs": [
    {
     "data": {
      "text/plain": [
       "(62, 7)"
      ]
     },
     "execution_count": 19,
     "metadata": {},
     "output_type": "execute_result"
    }
   ],
   "source": [
    "coal_test_data.shape"
   ]
  },
  {
   "cell_type": "code",
   "execution_count": 20,
   "id": "62fbbf47",
   "metadata": {},
   "outputs": [
    {
     "data": {
      "text/html": [
       "<div>\n",
       "<style scoped>\n",
       "    .dataframe tbody tr th:only-of-type {\n",
       "        vertical-align: middle;\n",
       "    }\n",
       "\n",
       "    .dataframe tbody tr th {\n",
       "        vertical-align: top;\n",
       "    }\n",
       "\n",
       "    .dataframe thead th {\n",
       "        text-align: right;\n",
       "    }\n",
       "</style>\n",
       "<table border=\"1\" class=\"dataframe\">\n",
       "  <thead>\n",
       "    <tr style=\"text-align: right;\">\n",
       "      <th></th>\n",
       "      <th>Date</th>\n",
       "      <th>Open</th>\n",
       "      <th>High</th>\n",
       "      <th>Low</th>\n",
       "      <th>Close</th>\n",
       "      <th>Adj Close</th>\n",
       "      <th>Volume</th>\n",
       "    </tr>\n",
       "  </thead>\n",
       "  <tbody>\n",
       "    <tr>\n",
       "      <th>57</th>\n",
       "      <td>24-03-2023</td>\n",
       "      <td>213.250000</td>\n",
       "      <td>213.899994</td>\n",
       "      <td>208.000000</td>\n",
       "      <td>208.449997</td>\n",
       "      <td>208.449997</td>\n",
       "      <td>6611089.0</td>\n",
       "    </tr>\n",
       "    <tr>\n",
       "      <th>58</th>\n",
       "      <td>27-03-2023</td>\n",
       "      <td>208.500000</td>\n",
       "      <td>210.199997</td>\n",
       "      <td>207.600006</td>\n",
       "      <td>208.399994</td>\n",
       "      <td>208.399994</td>\n",
       "      <td>4002212.0</td>\n",
       "    </tr>\n",
       "    <tr>\n",
       "      <th>59</th>\n",
       "      <td>28-03-2023</td>\n",
       "      <td>209.399994</td>\n",
       "      <td>211.250000</td>\n",
       "      <td>208.449997</td>\n",
       "      <td>208.899994</td>\n",
       "      <td>208.899994</td>\n",
       "      <td>6157526.0</td>\n",
       "    </tr>\n",
       "    <tr>\n",
       "      <th>60</th>\n",
       "      <td>29-03-2023</td>\n",
       "      <td>209.949997</td>\n",
       "      <td>214.899994</td>\n",
       "      <td>208.399994</td>\n",
       "      <td>212.949997</td>\n",
       "      <td>212.949997</td>\n",
       "      <td>16734166.0</td>\n",
       "    </tr>\n",
       "    <tr>\n",
       "      <th>61</th>\n",
       "      <td>31-03-2023</td>\n",
       "      <td>212.199997</td>\n",
       "      <td>214.300003</td>\n",
       "      <td>211.149994</td>\n",
       "      <td>213.649994</td>\n",
       "      <td>213.649994</td>\n",
       "      <td>5139018.0</td>\n",
       "    </tr>\n",
       "  </tbody>\n",
       "</table>\n",
       "</div>"
      ],
      "text/plain": [
       "          Date        Open        High         Low       Close   Adj Close  \\\n",
       "57  24-03-2023  213.250000  213.899994  208.000000  208.449997  208.449997   \n",
       "58  27-03-2023  208.500000  210.199997  207.600006  208.399994  208.399994   \n",
       "59  28-03-2023  209.399994  211.250000  208.449997  208.899994  208.899994   \n",
       "60  29-03-2023  209.949997  214.899994  208.399994  212.949997  212.949997   \n",
       "61  31-03-2023  212.199997  214.300003  211.149994  213.649994  213.649994   \n",
       "\n",
       "        Volume  \n",
       "57   6611089.0  \n",
       "58   4002212.0  \n",
       "59   6157526.0  \n",
       "60  16734166.0  \n",
       "61   5139018.0  "
      ]
     },
     "execution_count": 20,
     "metadata": {},
     "output_type": "execute_result"
    }
   ],
   "source": [
    "coal_test_data.tail()"
   ]
  },
  {
   "cell_type": "code",
   "execution_count": 21,
   "id": "859c0d92",
   "metadata": {},
   "outputs": [],
   "source": [
    "X_test = coal_test_data[['Open','High','Low','Volume']]"
   ]
  },
  {
   "cell_type": "code",
   "execution_count": 22,
   "id": "acea1ff2",
   "metadata": {},
   "outputs": [
    {
     "data": {
      "text/html": [
       "<div>\n",
       "<style scoped>\n",
       "    .dataframe tbody tr th:only-of-type {\n",
       "        vertical-align: middle;\n",
       "    }\n",
       "\n",
       "    .dataframe tbody tr th {\n",
       "        vertical-align: top;\n",
       "    }\n",
       "\n",
       "    .dataframe thead th {\n",
       "        text-align: right;\n",
       "    }\n",
       "</style>\n",
       "<table border=\"1\" class=\"dataframe\">\n",
       "  <thead>\n",
       "    <tr style=\"text-align: right;\">\n",
       "      <th></th>\n",
       "      <th>Open</th>\n",
       "      <th>High</th>\n",
       "      <th>Low</th>\n",
       "      <th>Volume</th>\n",
       "    </tr>\n",
       "  </thead>\n",
       "  <tbody>\n",
       "    <tr>\n",
       "      <th>0</th>\n",
       "      <td>226.750000</td>\n",
       "      <td>227.199997</td>\n",
       "      <td>224.149994</td>\n",
       "      <td>4210225.0</td>\n",
       "    </tr>\n",
       "    <tr>\n",
       "      <th>1</th>\n",
       "      <td>225.000000</td>\n",
       "      <td>225.750000</td>\n",
       "      <td>223.000000</td>\n",
       "      <td>3643132.0</td>\n",
       "    </tr>\n",
       "    <tr>\n",
       "      <th>2</th>\n",
       "      <td>224.350006</td>\n",
       "      <td>224.500000</td>\n",
       "      <td>216.250000</td>\n",
       "      <td>9550461.0</td>\n",
       "    </tr>\n",
       "    <tr>\n",
       "      <th>3</th>\n",
       "      <td>216.800003</td>\n",
       "      <td>218.899994</td>\n",
       "      <td>215.199997</td>\n",
       "      <td>8815728.0</td>\n",
       "    </tr>\n",
       "    <tr>\n",
       "      <th>4</th>\n",
       "      <td>219.000000</td>\n",
       "      <td>219.899994</td>\n",
       "      <td>212.000000</td>\n",
       "      <td>12237065.0</td>\n",
       "    </tr>\n",
       "  </tbody>\n",
       "</table>\n",
       "</div>"
      ],
      "text/plain": [
       "         Open        High         Low      Volume\n",
       "0  226.750000  227.199997  224.149994   4210225.0\n",
       "1  225.000000  225.750000  223.000000   3643132.0\n",
       "2  224.350006  224.500000  216.250000   9550461.0\n",
       "3  216.800003  218.899994  215.199997   8815728.0\n",
       "4  219.000000  219.899994  212.000000  12237065.0"
      ]
     },
     "execution_count": 22,
     "metadata": {},
     "output_type": "execute_result"
    }
   ],
   "source": [
    "X_test.head()"
   ]
  },
  {
   "cell_type": "code",
   "execution_count": 23,
   "id": "5997b5bf",
   "metadata": {},
   "outputs": [],
   "source": [
    "Y_test = coal_test_data['Close']"
   ]
  },
  {
   "cell_type": "code",
   "execution_count": 24,
   "id": "fbdd0c8a",
   "metadata": {},
   "outputs": [],
   "source": [
    "Y_pred = model.predict(X_test)"
   ]
  },
  {
   "cell_type": "code",
   "execution_count": 25,
   "id": "f3b3a09c",
   "metadata": {},
   "outputs": [
    {
     "data": {
      "text/plain": [
       "(62,)"
      ]
     },
     "execution_count": 25,
     "metadata": {},
     "output_type": "execute_result"
    }
   ],
   "source": [
    "Y_pred.shape"
   ]
  },
  {
   "cell_type": "markdown",
   "id": "c515a686",
   "metadata": {},
   "source": [
    "# Error Metrics"
   ]
  },
  {
   "cell_type": "code",
   "execution_count": 26,
   "id": "be6b4d25",
   "metadata": {},
   "outputs": [
    {
     "name": "stdout",
     "output_type": "stream",
     "text": [
      "Mean Absolute Error: 0.9570779925056833\n",
      "Mean Squared Error: 1.2467162217737893\n",
      "Root Mean Squared Error: 1.1165644727349107\n",
      "R-squared (R2) Score: 0.9520231379366484\n"
     ]
    }
   ],
   "source": [
    "mae = mean_absolute_error(Y_test, Y_pred)\n",
    "mse = mean_squared_error(Y_test, Y_pred)\n",
    "rmse = mean_squared_error(Y_test, Y_pred, squared=False)\n",
    "r2 = r2_score(Y_test, Y_pred)\n",
    "\n",
    "print(\"Mean Absolute Error:\", mae)\n",
    "print(\"Mean Squared Error:\", mse)\n",
    "print(\"Root Mean Squared Error:\", rmse)\n",
    "print(\"R-squared (R2) Score:\", r2)"
   ]
  },
  {
   "cell_type": "code",
   "execution_count": 29,
   "id": "8488c095",
   "metadata": {},
   "outputs": [
    {
     "data": {
      "image/png": "[encoded data removed]",
      "text/plain": [
       "<Figure size 1000x600 with 1 Axes>"
      ]
     },
     "metadata": {},
     "output_type": "display_data"
    }
   ],
   "source": [
    "x = coal_test_data['Date']\n",
    "plt.figure(figsize=(10, 6))\n",
    "plt.plot(x,Y_test, label='Actual', color='blue', marker='o', markersize=5, linewidth=2)\n",
    "plt.plot(x,Y_pred, label='Predicted', color='red', marker='x', markersize=5, linewidth=2)\n",
    "\n",
    "# Set axis labels and title\n",
    "plt.xlabel('Dates')\n",
    "plt.ylabel('Values')\n",
    "plt.title('Actual vs. Predicted Values')\n",
    "locator = mdates.AutoDateLocator()\n",
    "# Add legend\n",
    "plt.legend()\n",
    "plt.gca().xaxis.set_major_locator(locator)\n",
    "plt.gcf().autofmt_xdate()\n",
    "\n",
    "# Show the plot\n",
    "plt.show()\n"
   ]
  },
  {
   "cell_type": "code",
   "execution_count": null,
   "id": "1a8e7f0b",
   "metadata": {},
   "outputs": [],
   "source": []
  }
 ],
 "metadata": {
  "kernelspec": {
   "display_name": "Python 3 (ipykernel)",
   "language": "python",
   "name": "python3"
  },
  "language_info": {
   "codemirror_mode": {
    "name": "ipython",
    "version": 3
   },
   "file_extension": ".py",
   "mimetype": "text/x-python",
   "name": "python",
   "nbconvert_exporter": "python",
   "pygments_lexer": "ipython3",
   "version": "3.9.13"
  }
 },
 "nbformat": 4,
 "nbformat_minor": 5
}
