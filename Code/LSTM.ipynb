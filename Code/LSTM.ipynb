{
 "cells": [
  {
   "cell_type": "code",
   "execution_count": 1,
   "id": "c78b3729",
   "metadata": {},
   "outputs": [],
   "source": [
    "import numpy as np\n",
    "import pandas as pd\n",
    "from sklearn.preprocessing import MinMaxScaler\n",
    "from tensorflow.keras.models import Sequential\n",
    "from tensorflow.keras.layers import LSTM, Dense\n",
    "import matplotlib.pyplot as plt\n",
    "from sklearn.metrics import mean_squared_error, mean_absolute_error, r2_score\n",
    "import tensorflow as tf"
   ]
  },
  {
   "cell_type": "markdown",
   "id": "15d33ebf",
   "metadata": {},
   "source": [
    "# Model Architecture"
   ]
  },
  {
   "cell_type": "code",
   "execution_count": 2,
   "id": "9d28bada",
   "metadata": {},
   "outputs": [],
   "source": [
    "def build_lstm_model(input_dim=1):\n",
    "    model = Sequential()\n",
    "    model.add(LSTM(units=50, input_shape=(None, input_dim)))\n",
    "    model.add(Dense(units=1))\n",
    "    optimizer = tf.keras.optimizers.Adam(learning_rate=0.01)\n",
    "    model.compile(optimizer=optimizer, loss='mean_squared_error')\n",
    "    return model"
   ]
  },
  {
   "cell_type": "markdown",
   "id": "f48177e1",
   "metadata": {},
   "source": [
    "# Read data"
   ]
  },
  {
   "cell_type": "code",
   "execution_count": 3,
   "id": "ec4866e1",
   "metadata": {},
   "outputs": [],
   "source": [
    "data_path = \"Data/COALINDIA TRAIN.csv\"  # Replace with the path to your stock market data\n",
    "epochs = 50\n",
    "data = pd.read_csv(data_path)"
   ]
  },
  {
   "cell_type": "markdown",
   "id": "820f027d",
   "metadata": {},
   "source": [
    "# Checking null values"
   ]
  },
  {
   "cell_type": "code",
   "execution_count": 4,
   "id": "c0130638",
   "metadata": {},
   "outputs": [
    {
     "data": {
      "text/plain": [
       "Date         0\n",
       "Open         6\n",
       "High         6\n",
       "Low          6\n",
       "Close        6\n",
       "Adj Close    6\n",
       "Volume       6\n",
       "dtype: int64"
      ]
     },
     "execution_count": 4,
     "metadata": {},
     "output_type": "execute_result"
    }
   ],
   "source": [
    "data.isna().sum()"
   ]
  },
  {
   "cell_type": "markdown",
   "id": "e72bfa2d",
   "metadata": {},
   "source": [
    "# Dropping duplicate values"
   ]
  },
  {
   "cell_type": "code",
   "execution_count": 5,
   "id": "66707418",
   "metadata": {},
   "outputs": [],
   "source": [
    "data.dropna(inplace=True)"
   ]
  },
  {
   "cell_type": "code",
   "execution_count": 6,
   "id": "b33b8f76",
   "metadata": {},
   "outputs": [
    {
     "data": {
      "text/html": [
       "<div>\n",
       "<style scoped>\n",
       "    .dataframe tbody tr th:only-of-type {\n",
       "        vertical-align: middle;\n",
       "    }\n",
       "\n",
       "    .dataframe tbody tr th {\n",
       "        vertical-align: top;\n",
       "    }\n",
       "\n",
       "    .dataframe thead th {\n",
       "        text-align: right;\n",
       "    }\n",
       "</style>\n",
       "<table border=\"1\" class=\"dataframe\">\n",
       "  <thead>\n",
       "    <tr style=\"text-align: right;\">\n",
       "      <th></th>\n",
       "      <th>Date</th>\n",
       "      <th>Open</th>\n",
       "      <th>High</th>\n",
       "      <th>Low</th>\n",
       "      <th>Close</th>\n",
       "      <th>Adj Close</th>\n",
       "      <th>Volume</th>\n",
       "    </tr>\n",
       "  </thead>\n",
       "  <tbody>\n",
       "    <tr>\n",
       "      <th>0</th>\n",
       "      <td>03-01-2011</td>\n",
       "      <td>315.500000</td>\n",
       "      <td>318.000000</td>\n",
       "      <td>314.549988</td>\n",
       "      <td>317.299988</td>\n",
       "      <td>129.144241</td>\n",
       "      <td>2929118.0</td>\n",
       "    </tr>\n",
       "    <tr>\n",
       "      <th>1</th>\n",
       "      <td>04-01-2011</td>\n",
       "      <td>318.899994</td>\n",
       "      <td>320.000000</td>\n",
       "      <td>316.049988</td>\n",
       "      <td>319.200012</td>\n",
       "      <td>129.917557</td>\n",
       "      <td>2716995.0</td>\n",
       "    </tr>\n",
       "    <tr>\n",
       "      <th>2</th>\n",
       "      <td>05-01-2011</td>\n",
       "      <td>320.000000</td>\n",
       "      <td>320.000000</td>\n",
       "      <td>308.250000</td>\n",
       "      <td>309.799988</td>\n",
       "      <td>126.091690</td>\n",
       "      <td>8555905.0</td>\n",
       "    </tr>\n",
       "    <tr>\n",
       "      <th>3</th>\n",
       "      <td>06-01-2011</td>\n",
       "      <td>311.000000</td>\n",
       "      <td>313.000000</td>\n",
       "      <td>308.500000</td>\n",
       "      <td>309.100006</td>\n",
       "      <td>125.806793</td>\n",
       "      <td>2763146.0</td>\n",
       "    </tr>\n",
       "    <tr>\n",
       "      <th>4</th>\n",
       "      <td>07-01-2011</td>\n",
       "      <td>310.000000</td>\n",
       "      <td>313.500000</td>\n",
       "      <td>302.149994</td>\n",
       "      <td>309.100006</td>\n",
       "      <td>125.806793</td>\n",
       "      <td>2298583.0</td>\n",
       "    </tr>\n",
       "    <tr>\n",
       "      <th>...</th>\n",
       "      <td>...</td>\n",
       "      <td>...</td>\n",
       "      <td>...</td>\n",
       "      <td>...</td>\n",
       "      <td>...</td>\n",
       "      <td>...</td>\n",
       "      <td>...</td>\n",
       "    </tr>\n",
       "    <tr>\n",
       "      <th>2960</th>\n",
       "      <td>26-12-2022</td>\n",
       "      <td>215.050003</td>\n",
       "      <td>221.600006</td>\n",
       "      <td>214.250000</td>\n",
       "      <td>220.750000</td>\n",
       "      <td>215.474915</td>\n",
       "      <td>3116608.0</td>\n",
       "    </tr>\n",
       "    <tr>\n",
       "      <th>2961</th>\n",
       "      <td>27-12-2022</td>\n",
       "      <td>222.000000</td>\n",
       "      <td>222.899994</td>\n",
       "      <td>219.649994</td>\n",
       "      <td>221.250000</td>\n",
       "      <td>215.962967</td>\n",
       "      <td>2961726.0</td>\n",
       "    </tr>\n",
       "    <tr>\n",
       "      <th>2962</th>\n",
       "      <td>28-12-2022</td>\n",
       "      <td>221.250000</td>\n",
       "      <td>224.250000</td>\n",
       "      <td>220.550003</td>\n",
       "      <td>223.199997</td>\n",
       "      <td>217.866364</td>\n",
       "      <td>3015714.0</td>\n",
       "    </tr>\n",
       "    <tr>\n",
       "      <th>2963</th>\n",
       "      <td>29-12-2022</td>\n",
       "      <td>220.800003</td>\n",
       "      <td>224.350006</td>\n",
       "      <td>220.449997</td>\n",
       "      <td>221.649994</td>\n",
       "      <td>216.353394</td>\n",
       "      <td>4784105.0</td>\n",
       "    </tr>\n",
       "    <tr>\n",
       "      <th>2964</th>\n",
       "      <td>30-12-2022</td>\n",
       "      <td>222.250000</td>\n",
       "      <td>226.449997</td>\n",
       "      <td>222.250000</td>\n",
       "      <td>225.050003</td>\n",
       "      <td>219.672165</td>\n",
       "      <td>4102247.0</td>\n",
       "    </tr>\n",
       "  </tbody>\n",
       "</table>\n",
       "<p>2959 rows × 7 columns</p>\n",
       "</div>"
      ],
      "text/plain": [
       "            Date        Open        High         Low       Close   Adj Close  \\\n",
       "0     03-01-2011  315.500000  318.000000  314.549988  317.299988  129.144241   \n",
       "1     04-01-2011  318.899994  320.000000  316.049988  319.200012  129.917557   \n",
       "2     05-01-2011  320.000000  320.000000  308.250000  309.799988  126.091690   \n",
       "3     06-01-2011  311.000000  313.000000  308.500000  309.100006  125.806793   \n",
       "4     07-01-2011  310.000000  313.500000  302.149994  309.100006  125.806793   \n",
       "...          ...         ...         ...         ...         ...         ...   \n",
       "2960  26-12-2022  215.050003  221.600006  214.250000  220.750000  215.474915   \n",
       "2961  27-12-2022  222.000000  222.899994  219.649994  221.250000  215.962967   \n",
       "2962  28-12-2022  221.250000  224.250000  220.550003  223.199997  217.866364   \n",
       "2963  29-12-2022  220.800003  224.350006  220.449997  221.649994  216.353394   \n",
       "2964  30-12-2022  222.250000  226.449997  222.250000  225.050003  219.672165   \n",
       "\n",
       "         Volume  \n",
       "0     2929118.0  \n",
       "1     2716995.0  \n",
       "2     8555905.0  \n",
       "3     2763146.0  \n",
       "4     2298583.0  \n",
       "...         ...  \n",
       "2960  3116608.0  \n",
       "2961  2961726.0  \n",
       "2962  3015714.0  \n",
       "2963  4784105.0  \n",
       "2964  4102247.0  \n",
       "\n",
       "[2959 rows x 7 columns]"
      ]
     },
     "execution_count": 6,
     "metadata": {},
     "output_type": "execute_result"
    }
   ],
   "source": [
    "data"
   ]
  },
  {
   "cell_type": "markdown",
   "id": "96486eb9",
   "metadata": {},
   "source": [
    "# Preparing Data"
   ]
  },
  {
   "cell_type": "code",
   "execution_count": 7,
   "id": "eb6be0be",
   "metadata": {},
   "outputs": [],
   "source": [
    "data = data[['Close']]\n",
    "data = np.array(data).astype(float)"
   ]
  },
  {
   "cell_type": "code",
   "execution_count": 8,
   "id": "cf6f6e19",
   "metadata": {},
   "outputs": [
    {
     "data": {
      "text/plain": [
       "(2959, 1)"
      ]
     },
     "execution_count": 8,
     "metadata": {},
     "output_type": "execute_result"
    }
   ],
   "source": [
    "data.shape"
   ]
  },
  {
   "cell_type": "code",
   "execution_count": 9,
   "id": "9d392229",
   "metadata": {},
   "outputs": [],
   "source": [
    "scaler = MinMaxScaler(feature_range=(0, 1))\n",
    "data = scaler.fit_transform(data)"
   ]
  },
  {
   "cell_type": "code",
   "execution_count": 10,
   "id": "751d0df7",
   "metadata": {},
   "outputs": [
    {
     "data": {
      "text/plain": [
       "(2959, 1)"
      ]
     },
     "execution_count": 10,
     "metadata": {},
     "output_type": "execute_result"
    }
   ],
   "source": [
    "data.shape"
   ]
  },
  {
   "cell_type": "code",
   "execution_count": 11,
   "id": "c095d966",
   "metadata": {},
   "outputs": [],
   "source": [
    "sequence_length = 10\n",
    "X_train, Y_train = [], []\n",
    "for i in range(len(data) - sequence_length):\n",
    "    X_train.append(data[i:i+sequence_length])\n",
    "    Y_train.append(data[i+sequence_length])\n",
    "    \n",
    "X_train = np.array(X_train)\n",
    "Y_train = np.array(Y_train)"
   ]
  },
  {
   "cell_type": "code",
   "execution_count": 12,
   "id": "db13d2f2",
   "metadata": {},
   "outputs": [
    {
     "data": {
      "text/plain": [
       "(2949, 10, 1)"
      ]
     },
     "execution_count": 12,
     "metadata": {},
     "output_type": "execute_result"
    }
   ],
   "source": [
    "X_train.shape"
   ]
  },
  {
   "cell_type": "code",
   "execution_count": 13,
   "id": "68529ef7",
   "metadata": {},
   "outputs": [
    {
     "data": {
      "text/plain": [
       "(2949, 1)"
      ]
     },
     "execution_count": 13,
     "metadata": {},
     "output_type": "execute_result"
    }
   ],
   "source": [
    "Y_train.shape"
   ]
  },
  {
   "cell_type": "code",
   "execution_count": 14,
   "id": "713aab5b",
   "metadata": {},
   "outputs": [],
   "source": [
    "X_train = X_train.reshape(X_train.shape[0], X_train.shape[1], 1)"
   ]
  },
  {
   "cell_type": "markdown",
   "id": "92f3a245",
   "metadata": {},
   "source": [
    "# Model Training"
   ]
  },
  {
   "cell_type": "code",
   "execution_count": 15,
   "id": "aa688d04",
   "metadata": {},
   "outputs": [],
   "source": [
    "model = build_lstm_model()"
   ]
  },
  {
   "cell_type": "code",
   "execution_count": 16,
   "id": "99e9fa37",
   "metadata": {},
   "outputs": [
    {
     "name": "stdout",
     "output_type": "stream",
     "text": [
      "Epoch 1/50\n",
      "93/93 [==============================] - 2s 3ms/step - loss: 0.0095\n",
      "Epoch 2/50\n",
      "93/93 [==============================] - 0s 3ms/step - loss: 6.6471e-04\n",
      "Epoch 3/50\n",
      "93/93 [==============================] - 0s 3ms/step - loss: 6.1285e-04\n",
      "Epoch 4/50\n",
      "93/93 [==============================] - 0s 3ms/step - loss: 6.6322e-04\n",
      "Epoch 5/50\n",
      "93/93 [==============================] - 0s 3ms/step - loss: 5.3246e-04\n",
      "Epoch 6/50\n",
      "93/93 [==============================] - 0s 3ms/step - loss: 5.6726e-04\n",
      "Epoch 7/50\n",
      "93/93 [==============================] - 0s 3ms/step - loss: 4.9138e-04\n",
      "Epoch 8/50\n",
      "93/93 [==============================] - 0s 3ms/step - loss: 4.7693e-04\n",
      "Epoch 9/50\n",
      "93/93 [==============================] - 0s 3ms/step - loss: 4.8077e-04\n",
      "Epoch 10/50\n",
      "93/93 [==============================] - 0s 3ms/step - loss: 3.9166e-04\n",
      "Epoch 11/50\n",
      "93/93 [==============================] - 0s 3ms/step - loss: 4.0575e-04\n",
      "Epoch 12/50\n",
      "93/93 [==============================] - 0s 3ms/step - loss: 3.7863e-04\n",
      "Epoch 13/50\n",
      "93/93 [==============================] - 0s 3ms/step - loss: 3.6248e-04\n",
      "Epoch 14/50\n",
      "93/93 [==============================] - 0s 3ms/step - loss: 3.7524e-04\n",
      "Epoch 15/50\n",
      "93/93 [==============================] - 0s 3ms/step - loss: 3.1424e-04\n",
      "Epoch 16/50\n",
      "93/93 [==============================] - 0s 3ms/step - loss: 3.2295e-04\n",
      "Epoch 17/50\n",
      "93/93 [==============================] - 0s 3ms/step - loss: 3.1865e-04\n",
      "Epoch 18/50\n",
      "93/93 [==============================] - 0s 3ms/step - loss: 3.1950e-04\n",
      "Epoch 19/50\n",
      "93/93 [==============================] - 0s 3ms/step - loss: 2.8839e-04\n",
      "Epoch 20/50\n",
      "93/93 [==============================] - 0s 3ms/step - loss: 3.0267e-04\n",
      "Epoch 21/50\n",
      "93/93 [==============================] - 0s 3ms/step - loss: 3.3958e-04\n",
      "Epoch 22/50\n",
      "93/93 [==============================] - 0s 3ms/step - loss: 2.7277e-04\n",
      "Epoch 23/50\n",
      "93/93 [==============================] - 0s 3ms/step - loss: 3.2018e-04\n",
      "Epoch 24/50\n",
      "93/93 [==============================] - 0s 3ms/step - loss: 2.9996e-04\n",
      "Epoch 25/50\n",
      "93/93 [==============================] - 0s 3ms/step - loss: 2.9978e-04\n",
      "Epoch 26/50\n",
      "93/93 [==============================] - 0s 3ms/step - loss: 2.9821e-04\n",
      "Epoch 27/50\n",
      "93/93 [==============================] - 0s 3ms/step - loss: 2.8624e-04\n",
      "Epoch 28/50\n",
      "93/93 [==============================] - 0s 3ms/step - loss: 2.7784e-04\n",
      "Epoch 29/50\n",
      "93/93 [==============================] - 0s 3ms/step - loss: 3.0563e-04\n",
      "Epoch 30/50\n",
      "93/93 [==============================] - 0s 3ms/step - loss: 2.9588e-04\n",
      "Epoch 31/50\n",
      "93/93 [==============================] - 0s 3ms/step - loss: 3.0178e-04\n",
      "Epoch 32/50\n",
      "93/93 [==============================] - 0s 3ms/step - loss: 2.7708e-04\n",
      "Epoch 33/50\n",
      "93/93 [==============================] - 0s 3ms/step - loss: 2.9332e-04\n",
      "Epoch 34/50\n",
      "93/93 [==============================] - 0s 3ms/step - loss: 3.0996e-04\n",
      "Epoch 35/50\n",
      "93/93 [==============================] - 0s 3ms/step - loss: 3.0222e-04\n",
      "Epoch 36/50\n",
      "93/93 [==============================] - 0s 3ms/step - loss: 2.9052e-04\n",
      "Epoch 37/50\n",
      "93/93 [==============================] - 0s 3ms/step - loss: 2.8402e-04\n",
      "Epoch 38/50\n",
      "93/93 [==============================] - 0s 3ms/step - loss: 2.9055e-04\n",
      "Epoch 39/50\n",
      "93/93 [==============================] - 0s 3ms/step - loss: 3.1247e-04\n",
      "Epoch 40/50\n",
      "93/93 [==============================] - 0s 3ms/step - loss: 3.0959e-04\n",
      "Epoch 41/50\n",
      "93/93 [==============================] - 0s 3ms/step - loss: 3.2088e-04\n",
      "Epoch 42/50\n",
      "93/93 [==============================] - 0s 3ms/step - loss: 2.9138e-04\n",
      "Epoch 43/50\n",
      "93/93 [==============================] - 0s 4ms/step - loss: 2.6430e-04\n",
      "Epoch 44/50\n",
      "93/93 [==============================] - 0s 3ms/step - loss: 3.0931e-04\n",
      "Epoch 45/50\n",
      "93/93 [==============================] - 0s 3ms/step - loss: 2.8746e-04\n",
      "Epoch 46/50\n",
      "93/93 [==============================] - 0s 3ms/step - loss: 2.7441e-04\n",
      "Epoch 47/50\n",
      "93/93 [==============================] - 0s 3ms/step - loss: 2.7451e-04\n",
      "Epoch 48/50\n",
      "93/93 [==============================] - 0s 3ms/step - loss: 3.6550e-04\n",
      "Epoch 49/50\n",
      "93/93 [==============================] - 0s 3ms/step - loss: 2.9374e-04\n",
      "Epoch 50/50\n",
      "93/93 [==============================] - 0s 3ms/step - loss: 2.8447e-04\n"
     ]
    },
    {
     "data": {
      "text/plain": [
       "<keras.callbacks.History at 0x2cf15552d00>"
      ]
     },
     "execution_count": 16,
     "metadata": {},
     "output_type": "execute_result"
    }
   ],
   "source": [
    "model.fit(X_train, Y_train, epochs=epochs, batch_size=32)"
   ]
  },
  {
   "cell_type": "markdown",
   "id": "66950030",
   "metadata": {},
   "source": [
    "# Model Testing"
   ]
  },
  {
   "cell_type": "code",
   "execution_count": 17,
   "id": "480db54c",
   "metadata": {},
   "outputs": [],
   "source": [
    "test_data_path = \"Data/COALINDIA TEST.csv\"  \n",
    "test_data = pd.read_csv(test_data_path)"
   ]
  },
  {
   "cell_type": "code",
   "execution_count": 18,
   "id": "f9a3804b",
   "metadata": {},
   "outputs": [
    {
     "data": {
      "text/plain": [
       "Date         186\n",
       "Open         186\n",
       "High         186\n",
       "Low          186\n",
       "Close        186\n",
       "Adj Close    186\n",
       "Volume       186\n",
       "dtype: int64"
      ]
     },
     "execution_count": 18,
     "metadata": {},
     "output_type": "execute_result"
    }
   ],
   "source": [
    "test_data.isna().sum()"
   ]
  },
  {
   "cell_type": "code",
   "execution_count": 19,
   "id": "85c7670e",
   "metadata": {},
   "outputs": [],
   "source": [
    "test_data.dropna(inplace=True)"
   ]
  },
  {
   "cell_type": "code",
   "execution_count": 20,
   "id": "b928e55e",
   "metadata": {},
   "outputs": [],
   "source": [
    "test_data = test_data[['Close']]\n",
    "test_data = np.array(test_data).astype(float)"
   ]
  },
  {
   "cell_type": "code",
   "execution_count": 21,
   "id": "d5174685",
   "metadata": {},
   "outputs": [],
   "source": [
    "test_data = scaler.fit_transform(test_data)"
   ]
  },
  {
   "cell_type": "code",
   "execution_count": 22,
   "id": "54dedcd8",
   "metadata": {},
   "outputs": [],
   "source": [
    "sequence_length = 10\n",
    "X_test, Y_test = [], []\n",
    "for i in range(len(test_data) - sequence_length):\n",
    "    X_test.append(test_data[i:i+sequence_length])\n",
    "    Y_test.append(test_data[i+sequence_length])\n",
    "    \n",
    "X_test = np.array(X_test)\n",
    "Y_test = np.array(Y_test)"
   ]
  },
  {
   "cell_type": "code",
   "execution_count": 23,
   "id": "c863b7ab",
   "metadata": {},
   "outputs": [],
   "source": [
    "X_test = X_test.reshape(X_test.shape[0], X_test.shape[1], 1)"
   ]
  },
  {
   "cell_type": "code",
   "execution_count": 24,
   "id": "3084c484",
   "metadata": {},
   "outputs": [
    {
     "name": "stdout",
     "output_type": "stream",
     "text": [
      "2/2 [==============================] - 0s 0s/step\n"
     ]
    }
   ],
   "source": [
    "y_pred = model.predict(X_test)"
   ]
  },
  {
   "cell_type": "code",
   "execution_count": 25,
   "id": "7940c0ec",
   "metadata": {},
   "outputs": [],
   "source": [
    "y_test = scaler.inverse_transform(Y_test)\n",
    "y_pred = scaler.inverse_transform(y_pred)"
   ]
  },
  {
   "cell_type": "markdown",
   "id": "2065a932",
   "metadata": {},
   "source": [
    "# Error Metrics"
   ]
  },
  {
   "cell_type": "code",
   "execution_count": 26,
   "id": "c0be5b73",
   "metadata": {},
   "outputs": [
    {
     "name": "stdout",
     "output_type": "stream",
     "text": [
      "Mean Absolute Error: 2.0482764551156873\n",
      "Mean Squared Error: 6.7270452035628425\n",
      "Root Mean Squared Error: 2.5936547965299552\n",
      "R-squared (R2) Score: 0.7592727291210201\n"
     ]
    }
   ],
   "source": [
    "mae = mean_absolute_error(y_test, y_pred)\n",
    "mse = mean_squared_error(y_test, y_pred)\n",
    "rmse = mean_squared_error(y_test, y_pred, squared=False)\n",
    "r2 = r2_score(y_test, y_pred)\n",
    "\n",
    "print(\"Mean Absolute Error:\", mae)\n",
    "print(\"Mean Squared Error:\", mse)\n",
    "print(\"Root Mean Squared Error:\", rmse)\n",
    "print(\"R-squared (R2) Score:\", r2)"
   ]
  },
  {
   "cell_type": "code",
   "execution_count": 28,
   "id": "91c8a889",
   "metadata": {},
   "outputs": [
    {
     "data": {
      "image/png": "[encoded data removed]",
      "text/plain": [
       "<Figure size 1000x600 with 1 Axes>"
      ]
     },
     "metadata": {},
     "output_type": "display_data"
    }
   ],
   "source": [
    "#x = data[['Date']]\n",
    "plt.figure(figsize=(10, 6))\n",
    "plt.plot(y_test, label='Actual', color='blue', marker='o', markersize=5, linewidth=2)\n",
    "plt.plot(y_pred, label='Predicted', color='red', marker='x', markersize=5, linewidth=2)\n",
    "\n",
    "# Set axis labels and title\n",
    "plt.xlabel('Dates')\n",
    "plt.ylabel('Values')\n",
    "plt.title('Actual vs. Predicted Values')\n",
    "\n",
    "# Add legend\n",
    "plt.legend()\n",
    "\n",
    "# Show the plot\n",
    "plt.show()\n"
   ]
  },
  {
   "cell_type": "code",
   "execution_count": null,
   "id": "7c319eb4",
   "metadata": {},
   "outputs": [],
   "source": []
  }
 ],
 "metadata": {
  "kernelspec": {
   "display_name": "Python 3 (ipykernel)",
   "language": "python",
   "name": "python3"
  },
  "language_info": {
   "codemirror_mode": {
    "name": "ipython",
    "version": 3
   },
   "file_extension": ".py",
   "mimetype": "text/x-python",
   "name": "python",
   "nbconvert_exporter": "python",
   "pygments_lexer": "ipython3",
   "version": "3.9.13"
  }
 },
 "nbformat": 4,
 "nbformat_minor": 5
}
